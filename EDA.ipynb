{
 "cells": [
  {
   "cell_type": "code",
   "execution_count": null,
   "id": "687e8cde",
   "metadata": {},
   "outputs": [],
   "source": [
    "import pandas as pd\n",
    "import numpy as np\n",
    "\n",
    "cifras = pd.read_csv('EXP-IMP.csv')\n",
    "cifras"
   ]
  },
  {
   "cell_type": "code",
   "execution_count": 6,
   "id": "44dd3ca8",
   "metadata": {},
   "outputs": [],
   "source": [
    "Paises = cifras['Partner Name'].unique()\n",
    "TLC = ['Canada'\n",
    "'Chile','Colombia','Costa Rica','Dominican Republic','El Salvador''Honduras',\n",
    "'Mexico','Panama','Peru','South Korea','Taiwan','United States','Nicaragua' , \n",
    "'Israael' 'Switzerland', 'Norway','Iceland', 'Belize',\n",
    "'Ecuador','Cuba','Trinidad and Tobago','Venezuela'\n",
    "]"
   ]
  }
 ],
 "metadata": {
  "kernelspec": {
   "display_name": "Python 3",
   "language": "python",
   "name": "python3"
  },
  "language_info": {
   "codemirror_mode": {
    "name": "ipython",
    "version": 3
   },
   "file_extension": ".py",
   "mimetype": "text/x-python",
   "name": "python",
   "nbconvert_exporter": "python",
   "pygments_lexer": "ipython3",
   "version": "3.13.2"
  }
 },
 "nbformat": 4,
 "nbformat_minor": 5
}
